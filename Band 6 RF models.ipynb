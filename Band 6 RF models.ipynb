{
 "cells": [
  {
   "cell_type": "code",
   "execution_count": 1,
   "metadata": {},
   "outputs": [],
   "source": [
    "%matplotlib inline\n",
    "import numpy as np\n",
    "import matplotlib.pyplot as plt\n",
    "import sparsetools as sp"
   ]
  },
  {
   "cell_type": "code",
   "execution_count": 2,
   "metadata": {},
   "outputs": [
    {
     "name": "stdout",
     "output_type": "stream",
     "text": [
      "model::read: atmos type -> depth-stratified\n",
      "model::read: nx=320, ny=320, ndep=61, nt=1\n",
      "model::setSize: nx = 320, ny = 320, ndep = 61, nt = 1\n",
      "model::extract: x=(272,273), y=(123,124), z=(0,61), t=(0,1)\n",
      "model::setSize: nx = 1, ny = 1, ndep = 61, nt = 1\n",
      "model::read: atmos type -> depth-stratified\n",
      "model::read: nx=320, ny=320, ndep=61, nt=1\n",
      "model::setSize: nx = 320, ny = 320, ndep = 61, nt = 1\n",
      "model::extract: x=(200,201), y=(280,281), z=(0,61), t=(0,1)\n",
      "model::setSize: nx = 1, ny = 1, ndep = 61, nt = 1\n",
      "model::read: atmos type -> depth-stratified\n",
      "model::read: nx=1, ny=1, ndep=61, nt=1\n",
      "model::setSize: nx = 1, ny = 1, ndep = 61, nt = 1\n"
     ]
    }
   ],
   "source": [
    "m_hot = sp.model('alma/alma_mod_2.nc').extract(x0=272,x1=273,y0=123,y1=124)\n",
    "m_cold = sp.model('alma/alma_mod_2.nc').extract(x0=200,x1=201,y0=280,y1=281)\n",
    "m_falc = sp.model('../../FALC_cmass_trunc.nc')"
   ]
  },
  {
   "cell_type": "code",
   "execution_count": 3,
   "metadata": {},
   "outputs": [
    {
     "name": "stdout",
     "output_type": "stream",
     "text": [
      "model::setSize: nx = 3, ny = 61, ndep = 61, nt = 1\n"
     ]
    }
   ],
   "source": [
    "m_RF = sp.model(nx=3,ny=61,nt=1,ndep=61)"
   ]
  },
  {
   "cell_type": "code",
   "execution_count": 4,
   "metadata": {},
   "outputs": [],
   "source": [
    "pars = ['temp','vlos','vturb','nne','pgas','rho','ltau','cmass','z']\n",
    "for par in pars:\n",
    "    p_hot = getattr(m_hot,par)\n",
    "    p_cold = getattr(m_cold,par)\n",
    "    p_falc = getattr(m_falc,par)\n",
    "    p = np.concatenate((p_hot,p_cold,p_falc),2)\n",
    "    p_RF = np.tile(p,(1,61,1,1))\n",
    "    setattr(m_RF,par,p_RF)"
   ]
  },
  {
   "cell_type": "code",
   "execution_count": 7,
   "metadata": {},
   "outputs": [],
   "source": [
    "for i in range(61):\n",
    "    m_RF.temp[0,i,:,i] += 100"
   ]
  },
  {
   "cell_type": "code",
   "execution_count": 8,
   "metadata": {},
   "outputs": [
    {
     "name": "stdout",
     "output_type": "stream",
     "text": [
      "model::write: band_6_RF_mod.nc -> nx=3, ny=61, ndep=61, nt=1\n"
     ]
    }
   ],
   "source": [
    "m_RF.write('band_6_RF_mod.nc')"
   ]
  },
  {
   "cell_type": "code",
   "execution_count": null,
   "metadata": {},
   "outputs": [],
   "source": []
  }
 ],
 "metadata": {
  "kernelspec": {
   "display_name": "Python 3",
   "language": "python",
   "name": "python3"
  },
  "language_info": {
   "codemirror_mode": {
    "name": "ipython",
    "version": 3
   },
   "file_extension": ".py",
   "mimetype": "text/x-python",
   "name": "python",
   "nbconvert_exporter": "python",
   "pygments_lexer": "ipython3",
   "version": "3.6.9"
  }
 },
 "nbformat": 4,
 "nbformat_minor": 4
}
